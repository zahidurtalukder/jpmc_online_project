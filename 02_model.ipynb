{
 "cells": [
  {
   "cell_type": "markdown",
   "id": "3491a20c",
   "metadata": {},
   "source": [
    "# **Loan Default Prediction**\n",
    "\n",
    "This notebook demonstrates training a **PyTorch neural network** to predict whether a loan will default.\n",
    "\n",
    "## **Notebook Outline**\n",
    "1. **Train-Test Split & Imbalance Handling**\n",
    "2. **PyTorch Model Building & Training**\n",
    "3. **Evaluation & Threshold Tuning**\n",
    "\n",
    "We'll see both **Markdown explanations** (like this one) and **Code cells** demonstrating each step.\n",
    "\n",
    "---"
   ]
  },
  {
   "cell_type": "code",
   "execution_count": 1,
   "id": "f12db319",
   "metadata": {},
   "outputs": [
    {
     "name": "stdout",
     "output_type": "stream",
     "text": [
      "Setup complete.\n"
     ]
    },
    {
     "name": "stderr",
     "output_type": "stream",
     "text": [
      "<ipython-input-1-7137d4bfe437>:23: MatplotlibDeprecationWarning: The seaborn styles shipped by Matplotlib are deprecated since 3.6, as they no longer correspond to the styles shipped by seaborn. However, they will remain available as 'seaborn-v0_8-<style>'. Alternatively, directly use the seaborn API instead.\n",
      "  plt.style.use('seaborn')  # optional aesthetics\n"
     ]
    }
   ],
   "source": [
    "# (Cell 1) 1. Imports & Setup\n",
    "import pandas as pd\n",
    "import numpy as np\n",
    "import re\n",
    "import matplotlib.pyplot as plt\n",
    "import seaborn as sns\n",
    "\n",
    "from sklearn.model_selection import train_test_split\n",
    "from sklearn.preprocessing import StandardScaler\n",
    "from sklearn.metrics import (confusion_matrix, precision_score, recall_score, \n",
    "                             f1_score, roc_auc_score, classification_report)\n",
    "from sklearn.ensemble import RandomForestClassifier\n",
    "from sklearn.linear_model import LogisticRegression\n",
    "\n",
    "from imblearn.over_sampling import RandomOverSampler\n",
    "\n",
    "import torch\n",
    "import torch.nn as nn\n",
    "import torch.nn.functional as F\n",
    "import torch.optim as optim\n",
    "from torch.utils.data import TensorDataset, DataLoader\n",
    "\n",
    "plt.style.use('seaborn')  # optional aesthetics\n",
    "print(\"Setup complete.\")"
   ]
  },
  {
   "cell_type": "markdown",
   "id": "72d1e9fe",
   "metadata": {},
   "source": [
    "## **Cleaned Data Loading For Traning**\n",
    "We load the \"cleaned_train_data.csv\" file that we saved after EDA analysis for training."
   ]
  },
  {
   "cell_type": "code",
   "execution_count": 3,
   "id": "74062777",
   "metadata": {},
   "outputs": [],
   "source": [
    "df = pd.read_csv(\"cleaned_train_data.csv\")\n"
   ]
  },
  {
   "cell_type": "markdown",
   "id": "475c0f0b",
   "metadata": {},
   "source": [
    "## **6. Train-Test Split & Imbalance Handling**\n",
    "\n",
    "We'll do a stratified split (to preserve the ~7% minority class). Then we optionally oversample the minority class using `RandomOverSampler` from `imblearn`."
   ]
  },
  {
   "cell_type": "code",
   "execution_count": 4,
   "id": "6f5eb1b2",
   "metadata": {},
   "outputs": [
    {
     "name": "stdout",
     "output_type": "stream",
     "text": [
      "Train shape: (151565, 32) Val shape: (37892, 32)\n",
      "Positive class in train: 0.06929040345726256\n",
      "Positive class in val:   0.06930222738308878\n",
      "After oversampling: (162222, 32)\n",
      "Positive class proportion: 0.13043237045530198\n"
     ]
    }
   ],
   "source": [
    "# (Cell 5) Train-Val Split, Scale, and Oversample\n",
    "\n",
    "y = df['bad_flag'].astype(int)\n",
    "X = df.drop(columns=['bad_flag'])\n",
    "\n",
    "# Stratified split\n",
    "X_train, X_val, y_train, y_val = train_test_split(\n",
    "    X, y, test_size=0.2, random_state=42, stratify=y\n",
    ")\n",
    "\n",
    "print(\"Train shape:\", X_train.shape, \"Val shape:\", X_val.shape)\n",
    "print(\"Positive class in train:\", (y_train==1).mean())\n",
    "print(\"Positive class in val:  \", (y_val==1).mean())\n",
    "\n",
    "# Scale numeric features\n",
    "scaler = StandardScaler()\n",
    "X_train_scaled = scaler.fit_transform(X_train)\n",
    "X_val_scaled   = scaler.transform(X_val)\n",
    "\n",
    "# Convert back to DataFrame (optional)\n",
    "X_train = pd.DataFrame(X_train_scaled, columns=X_train.columns, index=X_train.index)\n",
    "X_val   = pd.DataFrame(X_val_scaled,   columns=X_val.columns,   index=X_val.index)\n",
    "\n",
    "# OverSampling\n",
    "ros = RandomOverSampler(random_state=42, sampling_strategy=0.15)\n",
    "X_train_ros, y_train_ros = ros.fit_resample(X_train, y_train)\n",
    "print(\"After oversampling:\", X_train_ros.shape)\n",
    "print(\"Positive class proportion:\", (y_train_ros==1).mean())"
   ]
  },
  {
   "cell_type": "code",
   "execution_count": null,
   "id": "8afb7efb",
   "metadata": {},
   "outputs": [],
   "source": []
  }
 ],
 "metadata": {
  "kernelspec": {
   "display_name": "Python 3",
   "language": "python",
   "name": "python3"
  },
  "language_info": {
   "codemirror_mode": {
    "name": "ipython",
    "version": 3
   },
   "file_extension": ".py",
   "mimetype": "text/x-python",
   "name": "python",
   "nbconvert_exporter": "python",
   "pygments_lexer": "ipython3",
   "version": "3.8.8"
  }
 },
 "nbformat": 4,
 "nbformat_minor": 5
}
