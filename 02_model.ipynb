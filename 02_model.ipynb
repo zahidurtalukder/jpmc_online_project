{
 "cells": [
  {
   "cell_type": "markdown",
   "id": "37c5603c",
   "metadata": {},
   "source": [
    "# **Loan Default Prediction**\n",
    "\n",
    "This notebook demonstrates training a **PyTorch neural network** to predict whether a loan will default.\n",
    "\n",
    "## **Notebook Outline**\n",
    "1. **Train-Test Split & Imbalance Handling**\n",
    "2. **PyTorch Model Building & Training**\n",
    "3. **Evaluation & Threshold Tuning**\n",
    "\n",
    "We'll see both **Markdown explanations** (like this one) and **Code cells** demonstrating each step.\n",
    "\n",
    "---"
   ]
  },
  {
   "cell_type": "code",
   "execution_count": 6,
   "id": "987dfdd5",
   "metadata": {},
   "outputs": [
    {
     "name": "stdout",
     "output_type": "stream",
     "text": [
      "Setup complete.\n"
     ]
    },
    {
     "name": "stderr",
     "output_type": "stream",
     "text": [
      "<ipython-input-6-7137d4bfe437>:23: MatplotlibDeprecationWarning: The seaborn styles shipped by Matplotlib are deprecated since 3.6, as they no longer correspond to the styles shipped by seaborn. However, they will remain available as 'seaborn-v0_8-<style>'. Alternatively, directly use the seaborn API instead.\n",
      "  plt.style.use('seaborn')  # optional aesthetics\n"
     ]
    }
   ],
   "source": [
    "# (Cell 1) 1. Imports & Setup\n",
    "import pandas as pd\n",
    "import numpy as np\n",
    "import re\n",
    "import matplotlib.pyplot as plt\n",
    "import seaborn as sns\n",
    "\n",
    "from sklearn.model_selection import train_test_split\n",
    "from sklearn.preprocessing import StandardScaler\n",
    "from sklearn.metrics import (confusion_matrix, precision_score, recall_score, \n",
    "                             f1_score, roc_auc_score, classification_report)\n",
    "from sklearn.ensemble import RandomForestClassifier\n",
    "from sklearn.linear_model import LogisticRegression\n",
    "\n",
    "from imblearn.over_sampling import RandomOverSampler\n",
    "\n",
    "import torch\n",
    "import torch.nn as nn\n",
    "import torch.nn.functional as F\n",
    "import torch.optim as optim\n",
    "from torch.utils.data import TensorDataset, DataLoader\n",
    "\n",
    "plt.style.use('seaborn')  # optional aesthetics\n",
    "print(\"Setup complete.\")"
   ]
  },
  {
   "cell_type": "markdown",
   "id": "518f1a0e",
   "metadata": {},
   "source": [
    "## **Cleaned Data Loading For Traning**\n",
    "We load the \"cleaned_train_data.csv\" file that we saved after EDA analysis for training."
   ]
  },
  {
   "cell_type": "code",
   "execution_count": 7,
   "id": "f3e261d8",
   "metadata": {},
   "outputs": [],
   "source": [
    "df = pd.read_csv(\"cleaned_train_data.csv\")\n"
   ]
  },
  {
   "cell_type": "markdown",
   "id": "9ad1c93c",
   "metadata": {},
   "source": [
    "## **6. Train-Test Split & Imbalance Handling**\n",
    "\n",
    "We'll do a stratified split (to preserve the ~7% minority class). Then we optionally oversample the minority class using `RandomOverSampler` from `imblearn`."
   ]
  },
  {
   "cell_type": "code",
   "execution_count": 8,
   "id": "4629d9e2",
   "metadata": {},
   "outputs": [
    {
     "name": "stdout",
     "output_type": "stream",
     "text": [
      "Train shape: (151565, 32) Val shape: (37892, 32)\n",
      "Positive class in train: 0.06929040345726256\n",
      "Positive class in val:   0.06930222738308878\n",
      "After oversampling: (162222, 32)\n",
      "Positive class proportion: 0.13043237045530198\n"
     ]
    }
   ],
   "source": [
    "# (Cell 5) Train-Val Split, Scale, and Oversample\n",
    "\n",
    "y = df['bad_flag'].astype(int)\n",
    "X = df.drop(columns=['bad_flag'])\n",
    "\n",
    "# Stratified split\n",
    "X_train, X_val, y_train, y_val = train_test_split(\n",
    "    X, y, test_size=0.2, random_state=42, stratify=y\n",
    ")\n",
    "\n",
    "print(\"Train shape:\", X_train.shape, \"Val shape:\", X_val.shape)\n",
    "print(\"Positive class in train:\", (y_train==1).mean())\n",
    "print(\"Positive class in val:  \", (y_val==1).mean())\n",
    "\n",
    "# Scale numeric features\n",
    "scaler = StandardScaler()\n",
    "X_train_scaled = scaler.fit_transform(X_train)\n",
    "X_val_scaled   = scaler.transform(X_val)\n",
    "\n",
    "# Convert back to DataFrame (optional)\n",
    "X_train = pd.DataFrame(X_train_scaled, columns=X_train.columns, index=X_train.index)\n",
    "X_val   = pd.DataFrame(X_val_scaled,   columns=X_val.columns,   index=X_val.index)\n",
    "\n",
    "# OverSampling\n",
    "ros = RandomOverSampler(random_state=42, sampling_strategy=0.15)\n",
    "X_train_ros, y_train_ros = ros.fit_resample(X_train, y_train)\n",
    "print(\"After oversampling:\", X_train_ros.shape)\n",
    "print(\"Positive class proportion:\", (y_train_ros==1).mean())"
   ]
  },
  {
   "cell_type": "markdown",
   "id": "1bda32aa",
   "metadata": {},
   "source": [
    "## **7. PyTorch Model Building & Training**\n",
    "We'll define a **DeeperNet** with a couple of hidden layers. We'll use a **pos_weight** in the BCE loss to handle imbalance. Then train for a set number of epochs.\n",
    "\n",
    "**Why this architecture?**\n",
    "- A 2-layer MLP is more expressive than a single-layer and still relatively fast.\n",
    "- We use ReLU activation for simplicity.\n",
    "- We use Adam optimizer with a small learning rate. In practice, you might tune more extensively.\n"
   ]
  },
  {
   "cell_type": "code",
   "execution_count": 9,
   "id": "a2b894e6",
   "metadata": {},
   "outputs": [
    {
     "name": "stdout",
     "output_type": "stream",
     "text": [
      "DeeperNet(\n",
      "  (fc1): Linear(in_features=32, out_features=64, bias=True)\n",
      "  (fc2): Linear(in_features=64, out_features=64, bias=True)\n",
      "  (fc3): Linear(in_features=64, out_features=1, bias=True)\n",
      ")\n",
      "[Epoch 1/50] Train Loss: 1.5505, Train Acc: 0.3276 | Val Loss: 1.2859, Val Acc: 0.2803\n",
      "[Epoch 2/50] Train Loss: 1.5289, Train Acc: 0.3550 | Val Loss: 1.2447, Val Acc: 0.3435\n",
      "[Epoch 3/50] Train Loss: 1.5147, Train Acc: 0.3682 | Val Loss: 1.2955, Val Acc: 0.3393\n",
      "[Epoch 4/50] Train Loss: 1.5028, Train Acc: 0.3763 | Val Loss: 1.2743, Val Acc: 0.3486\n",
      "[Epoch 5/50] Train Loss: 1.4899, Train Acc: 0.3866 | Val Loss: 1.2356, Val Acc: 0.4032\n",
      "[Epoch 6/50] Train Loss: 1.4812, Train Acc: 0.3957 | Val Loss: 1.2765, Val Acc: 0.3347\n",
      "[Epoch 7/50] Train Loss: 1.4693, Train Acc: 0.4050 | Val Loss: 1.3105, Val Acc: 0.3283\n",
      "[Epoch 8/50] Train Loss: 1.4586, Train Acc: 0.4136 | Val Loss: 1.2423, Val Acc: 0.4261\n",
      "[Epoch 9/50] Train Loss: 1.4486, Train Acc: 0.4252 | Val Loss: 1.2817, Val Acc: 0.3738\n",
      "[Epoch 10/50] Train Loss: 1.4384, Train Acc: 0.4330 | Val Loss: 1.2967, Val Acc: 0.3673\n",
      "[Epoch 11/50] Train Loss: 1.4267, Train Acc: 0.4412 | Val Loss: 1.2936, Val Acc: 0.4173\n",
      "[Epoch 12/50] Train Loss: 1.4182, Train Acc: 0.4503 | Val Loss: 1.2948, Val Acc: 0.3677\n",
      "[Epoch 13/50] Train Loss: 1.4079, Train Acc: 0.4562 | Val Loss: 1.2944, Val Acc: 0.4179\n",
      "[Epoch 14/50] Train Loss: 1.3988, Train Acc: 0.4645 | Val Loss: 1.2853, Val Acc: 0.4405\n",
      "[Epoch 15/50] Train Loss: 1.3899, Train Acc: 0.4703 | Val Loss: 1.2966, Val Acc: 0.4551\n",
      "[Epoch 16/50] Train Loss: 1.3804, Train Acc: 0.4749 | Val Loss: 1.2962, Val Acc: 0.4527\n",
      "[Epoch 17/50] Train Loss: 1.3747, Train Acc: 0.4827 | Val Loss: 1.2951, Val Acc: 0.4874\n",
      "[Epoch 18/50] Train Loss: 1.3654, Train Acc: 0.4870 | Val Loss: 1.3167, Val Acc: 0.4511\n",
      "[Epoch 19/50] Train Loss: 1.3571, Train Acc: 0.4932 | Val Loss: 1.3584, Val Acc: 0.4050\n",
      "[Epoch 20/50] Train Loss: 1.3496, Train Acc: 0.4967 | Val Loss: 1.3203, Val Acc: 0.4836\n",
      "[Epoch 21/50] Train Loss: 1.3428, Train Acc: 0.5017 | Val Loss: 1.3401, Val Acc: 0.4989\n",
      "[Epoch 22/50] Train Loss: 1.3341, Train Acc: 0.5062 | Val Loss: 1.3341, Val Acc: 0.4975\n",
      "[Epoch 23/50] Train Loss: 1.3279, Train Acc: 0.5120 | Val Loss: 1.3681, Val Acc: 0.4599\n",
      "[Epoch 24/50] Train Loss: 1.3219, Train Acc: 0.5159 | Val Loss: 1.3637, Val Acc: 0.4881\n",
      "[Epoch 25/50] Train Loss: 1.3144, Train Acc: 0.5207 | Val Loss: 1.3596, Val Acc: 0.4975\n",
      "[Epoch 26/50] Train Loss: 1.3084, Train Acc: 0.5241 | Val Loss: 1.3842, Val Acc: 0.4768\n",
      "[Epoch 27/50] Train Loss: 1.3024, Train Acc: 0.5270 | Val Loss: 1.4064, Val Acc: 0.4938\n",
      "[Epoch 28/50] Train Loss: 1.2975, Train Acc: 0.5326 | Val Loss: 1.3944, Val Acc: 0.4941\n",
      "[Epoch 29/50] Train Loss: 1.2938, Train Acc: 0.5343 | Val Loss: 1.4134, Val Acc: 0.4802\n",
      "[Epoch 30/50] Train Loss: 1.2886, Train Acc: 0.5378 | Val Loss: 1.4014, Val Acc: 0.5053\n",
      "[Epoch 31/50] Train Loss: 1.2842, Train Acc: 0.5406 | Val Loss: 1.4307, Val Acc: 0.4749\n",
      "[Epoch 32/50] Train Loss: 1.2801, Train Acc: 0.5432 | Val Loss: 1.4283, Val Acc: 0.4986\n",
      "[Epoch 33/50] Train Loss: 1.2756, Train Acc: 0.5471 | Val Loss: 1.4147, Val Acc: 0.5062\n",
      "[Epoch 34/50] Train Loss: 1.2724, Train Acc: 0.5480 | Val Loss: 1.4154, Val Acc: 0.5339\n",
      "[Epoch 35/50] Train Loss: 1.2686, Train Acc: 0.5514 | Val Loss: 1.4499, Val Acc: 0.4922\n",
      "[Epoch 36/50] Train Loss: 1.2641, Train Acc: 0.5530 | Val Loss: 1.4407, Val Acc: 0.4586\n",
      "[Epoch 37/50] Train Loss: 1.2603, Train Acc: 0.5554 | Val Loss: 1.4373, Val Acc: 0.4997\n",
      "[Epoch 38/50] Train Loss: 1.2585, Train Acc: 0.5564 | Val Loss: 1.4451, Val Acc: 0.5420\n",
      "[Epoch 39/50] Train Loss: 1.2573, Train Acc: 0.5582 | Val Loss: 1.4462, Val Acc: 0.5263\n",
      "[Epoch 40/50] Train Loss: 1.2506, Train Acc: 0.5612 | Val Loss: 1.4434, Val Acc: 0.5083\n",
      "[Epoch 41/50] Train Loss: 1.2489, Train Acc: 0.5637 | Val Loss: 1.4674, Val Acc: 0.4810\n",
      "[Epoch 42/50] Train Loss: 1.2439, Train Acc: 0.5655 | Val Loss: 1.4662, Val Acc: 0.4925\n",
      "[Epoch 43/50] Train Loss: 1.2436, Train Acc: 0.5656 | Val Loss: 1.4720, Val Acc: 0.5236\n",
      "[Epoch 44/50] Train Loss: 1.2417, Train Acc: 0.5693 | Val Loss: 1.4785, Val Acc: 0.4974\n",
      "[Epoch 45/50] Train Loss: 1.2377, Train Acc: 0.5699 | Val Loss: 1.5031, Val Acc: 0.5516\n",
      "[Epoch 46/50] Train Loss: 1.2337, Train Acc: 0.5721 | Val Loss: 1.5026, Val Acc: 0.4610\n",
      "[Epoch 47/50] Train Loss: 1.2328, Train Acc: 0.5724 | Val Loss: 1.4913, Val Acc: 0.4850\n",
      "[Epoch 48/50] Train Loss: 1.2290, Train Acc: 0.5751 | Val Loss: 1.4951, Val Acc: 0.5343\n",
      "[Epoch 49/50] Train Loss: 1.2262, Train Acc: 0.5750 | Val Loss: 1.5197, Val Acc: 0.5216\n",
      "[Epoch 50/50] Train Loss: 1.2266, Train Acc: 0.5774 | Val Loss: 1.4973, Val Acc: 0.5499\n"
     ]
    }
   ],
   "source": [
    "# (Cell 6) Build PyTorch model & Dataloaders\n",
    "\n",
    "# Prepare final train sets\n",
    "use_oversample = True  # set to False if you want to skip oversampling\n",
    "\n",
    "if use_oversample:\n",
    "    X_train_final, y_train_final = X_train_ros, y_train_ros\n",
    "else:\n",
    "    X_train_final, y_train_final = X_train, y_train\n",
    "\n",
    "X_train_t = torch.tensor(X_train_final.values, dtype=torch.float32)\n",
    "y_train_t = torch.tensor(y_train_final.values, dtype=torch.float32)\n",
    "\n",
    "X_val_t = torch.tensor(X_val.values, dtype=torch.float32)\n",
    "y_val_t = torch.tensor(y_val.values, dtype=torch.float32)\n",
    "\n",
    "train_dataset = TensorDataset(X_train_t, y_train_t)\n",
    "val_dataset   = TensorDataset(X_val_t,   y_val_t)\n",
    "\n",
    "train_loader = DataLoader(train_dataset, batch_size=64, shuffle=True)\n",
    "val_loader   = DataLoader(val_dataset,   batch_size=64, shuffle=False)\n",
    "\n",
    "class DeeperNet(nn.Module):\n",
    "    def __init__(self, input_dim, hidden_dim=64):\n",
    "        super().__init__()\n",
    "        self.fc1 = nn.Linear(input_dim, hidden_dim)\n",
    "        self.fc2 = nn.Linear(hidden_dim, hidden_dim)\n",
    "        self.fc3 = nn.Linear(hidden_dim, 1)\n",
    "    def forward(self, x):\n",
    "        x = F.relu(self.fc1(x))\n",
    "        x = F.relu(self.fc2(x))\n",
    "        x = self.fc3(x)  # no sigmoid here for BCEWithLogitsLoss\n",
    "        return x\n",
    "\n",
    "# Initialize the network\n",
    "model = DeeperNet(input_dim=X_train.shape[1], hidden_dim=64)\n",
    "print(model)\n",
    "\n",
    "# pos_weight for imbalance\n",
    "neg_count = (y_train == 0).sum()\n",
    "pos_count = (y_train == 1).sum()\n",
    "pos_weight_val = torch.tensor([neg_count / pos_count], dtype=torch.float32)\n",
    "\n",
    "criterion = nn.BCEWithLogitsLoss(pos_weight=pos_weight_val)\n",
    "optimizer = optim.Adam(model.parameters(), lr=0.001)\n",
    "\n",
    "epochs = 50\n",
    "for epoch in range(epochs):\n",
    "    model.train()\n",
    "    total_loss = 0.0\n",
    "    correct, total = 0, 0\n",
    "\n",
    "    for batch_X, batch_y in train_loader:\n",
    "        optimizer.zero_grad()\n",
    "        outputs = model(batch_X).squeeze()\n",
    "        loss = criterion(outputs, batch_y)\n",
    "        loss.backward()\n",
    "        optimizer.step()\n",
    "        total_loss += loss.item()\n",
    "\n",
    "        # Compute train accuracy\n",
    "        probs = torch.sigmoid(outputs)\n",
    "        preds = (probs > 0.5).float()\n",
    "        correct += (preds == batch_y).sum().item()\n",
    "        total   += batch_y.size(0)\n",
    "\n",
    "    train_acc = correct / total\n",
    "    avg_train_loss = total_loss / len(train_loader)\n",
    "\n",
    "    # Validation\n",
    "    model.eval()\n",
    "    val_loss, val_correct, val_total = 0.0, 0, 0\n",
    "    with torch.no_grad():\n",
    "        for val_X, val_y in val_loader:\n",
    "            val_outputs = model(val_X).squeeze()\n",
    "            v_loss = criterion(val_outputs, val_y)\n",
    "            val_loss += v_loss.item()\n",
    "\n",
    "            val_probs = torch.sigmoid(val_outputs)\n",
    "            val_preds = (val_probs > 0.5).float()\n",
    "            val_correct += (val_preds == val_y).sum().item()\n",
    "            val_total   += val_y.size(0)\n",
    "\n",
    "    avg_val_loss = val_loss / len(val_loader)\n",
    "    val_acc = val_correct / val_total\n",
    "\n",
    "    if (epoch+1) % 1 == 0:\n",
    "        print(f\"[Epoch {epoch+1}/{epochs}] \"\n",
    "              f\"Train Loss: {avg_train_loss:.4f}, Train Acc: {train_acc:.4f} | \"\n",
    "              f\"Val Loss: {avg_val_loss:.4f}, Val Acc: {val_acc:.4f}\")\n"
   ]
  },
  {
   "cell_type": "markdown",
   "id": "fe0395e5",
   "metadata": {},
   "source": [
    "## **8. Evaluation & Threshold Tuning**\n",
    "We'll compute **precision, recall, F1, and AUC** on the validation set. Then we can see if a threshold other than 0.5 yields better F1."
   ]
  },
  {
   "cell_type": "code",
   "execution_count": 10,
   "id": "6493d658",
   "metadata": {},
   "outputs": [
    {
     "name": "stdout",
     "output_type": "stream",
     "text": [
      "Precision: 0.0966, Recall: 0.6580, F1: 0.1685, AUC: 0.6346\n",
      "\n",
      "Classification Report:\n",
      "               precision    recall  f1-score   support\n",
      "\n",
      "     class 0       0.96      0.54      0.69     35266\n",
      "     class 1       0.10      0.66      0.17      2626\n",
      "\n",
      "    accuracy                           0.55     37892\n",
      "   macro avg       0.53      0.60      0.43     37892\n",
      "weighted avg       0.90      0.55      0.66     37892\n",
      "\n"
     ]
    }
   ],
   "source": [
    "# (Cell 7) Final Evaluation\n",
    "model.eval()\n",
    "all_preds = []\n",
    "all_labels = []\n",
    "\n",
    "with torch.no_grad():\n",
    "    for val_X, val_y in val_loader:\n",
    "        logits = model(val_X).squeeze()\n",
    "        probs = torch.sigmoid(logits)\n",
    "        all_preds.extend(probs.cpu().numpy())\n",
    "        all_labels.extend(val_y.cpu().numpy())\n",
    "\n",
    "# Default threshold = 0.5\n",
    "pred_labels = [1 if p >= 0.5 else 0 for p in all_preds]\n",
    "\n",
    "prec = precision_score(all_labels, pred_labels)\n",
    "rec  = recall_score(all_labels, pred_labels)\n",
    "f1   = f1_score(all_labels, pred_labels)\n",
    "auc  = roc_auc_score(all_labels, all_preds)\n",
    "\n",
    "print(f\"Precision: {prec:.4f}, Recall: {rec:.4f}, F1: {f1:.4f}, AUC: {auc:.4f}\")\n",
    "\n",
    "# Classification report\n",
    "print(\"\\nClassification Report:\\n\", classification_report(all_labels, pred_labels, target_names=[\"class 0\", \"class 1\"]))"
   ]
  },
  {
   "cell_type": "markdown",
   "id": "cba97f29",
   "metadata": {},
   "source": [
    "### Threshold Tuning\n",
    "To find the best F1 threshold, we can systematically try thresholds from 0.0 to 1.0 in small increments. This is just a demonstration—pick a threshold that aligns with your business needs (precision vs. recall)."
   ]
  },
  {
   "cell_type": "code",
   "execution_count": 11,
   "id": "4b0da01c",
   "metadata": {},
   "outputs": [
    {
     "name": "stdout",
     "output_type": "stream",
     "text": [
      "Best threshold: 0.65\n",
      "Best F1 at that threshold: 0.17880794701986755\n"
     ]
    }
   ],
   "source": [
    "# (Cell 8) Threshold Tuning\n",
    "best_t, best_f1 = 0, 0\n",
    "import numpy as np\n",
    "\n",
    "for t in np.arange(0.0, 1.01, 0.01):\n",
    "    temp_preds = [1 if p >= t else 0 for p in all_preds]\n",
    "    current_f1 = f1_score(all_labels, temp_preds)\n",
    "    if current_f1 > best_f1:\n",
    "        best_f1 = current_f1\n",
    "        best_t = t\n",
    "\n",
    "print(\"Best threshold:\", best_t)\n",
    "print(\"Best F1 at that threshold:\", best_f1)"
   ]
  },
  {
   "cell_type": "code",
   "execution_count": null,
   "id": "dabcfda9",
   "metadata": {},
   "outputs": [],
   "source": []
  }
 ],
 "metadata": {
  "kernelspec": {
   "display_name": "Python 3",
   "language": "python",
   "name": "python3"
  },
  "language_info": {
   "codemirror_mode": {
    "name": "ipython",
    "version": 3
   },
   "file_extension": ".py",
   "mimetype": "text/x-python",
   "name": "python",
   "nbconvert_exporter": "python",
   "pygments_lexer": "ipython3",
   "version": "3.8.8"
  }
 },
 "nbformat": 4,
 "nbformat_minor": 5
}
